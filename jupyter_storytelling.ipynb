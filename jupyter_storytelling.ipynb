{
 "cells": [
  {
   "cell_type": "code",
   "execution_count": 146,
   "metadata": {},
   "outputs": [],
   "source": [
    "import math\n",
    "from IPython.core.debugger import set_trace"
   ]
  },
  {
   "cell_type": "markdown",
   "metadata": {},
   "source": [
    "# Note: Some of this code may be broken, it was coded as a quick example for "
   ]
  },
  {
   "cell_type": "markdown",
   "metadata": {},
   "source": [
    "- `__init__` method is called when the class is instantiated\n",
    "- `self` refers to the instance of the class rather than the class itself\n",
    "- attributes are assigned and accessed using dot notation"
   ]
  },
  {
   "cell_type": "code",
   "execution_count": 89,
   "metadata": {},
   "outputs": [],
   "source": [
    "class A:\n",
    "    pass"
   ]
  },
  {
   "cell_type": "code",
   "execution_count": 90,
   "metadata": {},
   "outputs": [
    {
     "name": "stdout",
     "output_type": "stream",
     "text": [
      "<class '__main__.A'>\n"
     ]
    }
   ],
   "source": [
    "print(A)"
   ]
  },
  {
   "cell_type": "code",
   "execution_count": 91,
   "metadata": {},
   "outputs": [],
   "source": [
    "a = A()"
   ]
  },
  {
   "cell_type": "code",
   "execution_count": 92,
   "metadata": {},
   "outputs": [
    {
     "name": "stdout",
     "output_type": "stream",
     "text": [
      "<__main__.A object at 0x7f5ca1cac358>\n"
     ]
    }
   ],
   "source": [
    "print(a)"
   ]
  },
  {
   "cell_type": "code",
   "execution_count": 93,
   "metadata": {},
   "outputs": [],
   "source": [
    "class A:\n",
    "    def __init__(self):\n",
    "        print(f'__init__ of {self} instance '\n",
    "              f'of class {self.__class__}')"
   ]
  },
  {
   "cell_type": "code",
   "execution_count": 94,
   "metadata": {},
   "outputs": [
    {
     "name": "stdout",
     "output_type": "stream",
     "text": [
      "__init__ of <__main__.A object at 0x7f5ca1cac860> instance of class <class '__main__.A'>\n"
     ]
    }
   ],
   "source": [
    "a = A()"
   ]
  },
  {
   "cell_type": "code",
   "execution_count": 95,
   "metadata": {},
   "outputs": [
    {
     "data": {
      "text/plain": [
       "['__class__',\n",
       " '__delattr__',\n",
       " '__dict__',\n",
       " '__dir__',\n",
       " '__doc__',\n",
       " '__eq__',\n",
       " '__format__',\n",
       " '__ge__',\n",
       " '__getattribute__',\n",
       " '__gt__',\n",
       " '__hash__',\n",
       " '__init__',\n",
       " '__init_subclass__',\n",
       " '__le__',\n",
       " '__lt__',\n",
       " '__module__',\n",
       " '__ne__',\n",
       " '__new__',\n",
       " '__reduce__',\n",
       " '__reduce_ex__',\n",
       " '__repr__',\n",
       " '__setattr__',\n",
       " '__sizeof__',\n",
       " '__str__',\n",
       " '__subclasshook__',\n",
       " '__weakref__']"
      ]
     },
     "execution_count": 95,
     "metadata": {},
     "output_type": "execute_result"
    }
   ],
   "source": [
    "dir(A)"
   ]
  },
  {
   "cell_type": "code",
   "execution_count": 96,
   "metadata": {},
   "outputs": [],
   "source": [
    "class Circle:\n",
    "    def __init__(self, r):\n",
    "        self.r = r\n",
    "        self.A = math.pi * self.r ** 2"
   ]
  },
  {
   "cell_type": "code",
   "execution_count": 97,
   "metadata": {},
   "outputs": [
    {
     "name": "stdout",
     "output_type": "stream",
     "text": [
      "Area: 78.53981633974483\n",
      "Area: 78.53981633974483\n"
     ]
    }
   ],
   "source": [
    "my_circle = Circle(5)\n",
    "print(f'Area: {my_circle.A}')\n",
    "my_circle.r = 10\n",
    "print(f'Area: {my_circle.A}')"
   ]
  },
  {
   "cell_type": "code",
   "execution_count": 98,
   "metadata": {},
   "outputs": [],
   "source": [
    "class Circle:\n",
    "    def __init__(self, r):\n",
    "        self.r = r\n",
    "    \n",
    "    @property\n",
    "    def A(self):\n",
    "        return math.pi * self.r ** 2"
   ]
  },
  {
   "cell_type": "code",
   "execution_count": 99,
   "metadata": {},
   "outputs": [
    {
     "name": "stdout",
     "output_type": "stream",
     "text": [
      "Area: 78.53981633974483\n",
      "Area: 314.1592653589793\n"
     ]
    }
   ],
   "source": [
    "my_circle = Circle(5)\n",
    "print(f'Area: {my_circle.A}')\n",
    "my_circle.r = 10\n",
    "print(f'Area: {my_circle.A}')"
   ]
  },
  {
   "cell_type": "code",
   "execution_count": 208,
   "metadata": {},
   "outputs": [],
   "source": [
    "class Rectangle:\n",
    "    vertices = 4\n",
    "    \n",
    "    def __init__(self, h, w):\n",
    "        self.h = h\n",
    "        self.w = w\n",
    "    \n",
    "    @property\n",
    "    def A(self):\n",
    "        return self.h * self.w"
   ]
  },
  {
   "cell_type": "code",
   "execution_count": 209,
   "metadata": {},
   "outputs": [],
   "source": [
    "rect_1 = Rectangle(4, 5)\n",
    "rect_2 = Rectangle(5, 5)"
   ]
  },
  {
   "cell_type": "code",
   "execution_count": 210,
   "metadata": {},
   "outputs": [
    {
     "name": "stdout",
     "output_type": "stream",
     "text": [
      "rect_1.A: 20\n",
      "rect_2.A: 25\n"
     ]
    }
   ],
   "source": [
    "print(f'rect_1.A: {rect_1.A}')\n",
    "print(f'rect_2.A: {rect_2.A}')"
   ]
  },
  {
   "cell_type": "code",
   "execution_count": 215,
   "metadata": {},
   "outputs": [
    {
     "data": {
      "text/plain": [
       "5"
      ]
     },
     "execution_count": 215,
     "metadata": {},
     "output_type": "execute_result"
    }
   ],
   "source": [
    "rect_1.vertices"
   ]
  },
  {
   "cell_type": "code",
   "execution_count": 103,
   "metadata": {},
   "outputs": [
    {
     "ename": "AttributeError",
     "evalue": "can't set attribute",
     "output_type": "error",
     "traceback": [
      "\u001b[0;31m---------------------------------------------------------------------------\u001b[0m",
      "\u001b[0;31mAttributeError\u001b[0m                            Traceback (most recent call last)",
      "\u001b[0;32m<ipython-input-103-f0fd53827077>\u001b[0m in \u001b[0;36m<module>\u001b[0;34m\u001b[0m\n\u001b[0;32m----> 1\u001b[0;31m \u001b[0mrect_1\u001b[0m\u001b[0;34m.\u001b[0m\u001b[0mA\u001b[0m \u001b[0;34m=\u001b[0m \u001b[0;36m50\u001b[0m\u001b[0;34m\u001b[0m\u001b[0;34m\u001b[0m\u001b[0m\n\u001b[0m",
      "\u001b[0;31mAttributeError\u001b[0m: can't set attribute"
     ]
    }
   ],
   "source": [
    "rect_1.A = 50"
   ]
  },
  {
   "cell_type": "code",
   "execution_count": 104,
   "metadata": {},
   "outputs": [],
   "source": [
    "class RightTriangle:\n",
    "    vertices = 3\n",
    "    \n",
    "    def __init__(self, a, b):\n",
    "        self.a = a\n",
    "        self.b = b\n",
    "    \n",
    "    @property\n",
    "    def c(self):\n",
    "        return math.sqrt(self.a ** 2 + self.b ** 2)\n",
    "    \n",
    "    @property\n",
    "    def a_b(self):\n",
    "        return self.a / self.b\n",
    "    \n",
    "    @c.setter\n",
    "    def c(self, value):\n",
    "        c = value\n",
    "        a_b = self.a_b\n",
    "        self.a = math.sqrt(c ** 2 / (1 / a_b ** 2 + 1))\n",
    "        self.b = math.sqrt(c ** 2 / (a_b ** 2 + 1))"
   ]
  },
  {
   "cell_type": "code",
   "execution_count": 216,
   "metadata": {},
   "outputs": [],
   "source": [
    "f()\n",
    "f"
   ]
  },
  {
   "cell_type": "code",
   "execution_count": 105,
   "metadata": {},
   "outputs": [
    {
     "name": "stdout",
     "output_type": "stream",
     "text": [
      "a: 5, b: 5, c: 7.0710678118654755\n"
     ]
    }
   ],
   "source": [
    "tri = RightTriangle(5, 5)\n",
    "print(f'a: {tri.a}, b: {tri.b}, c: {tri.c}')"
   ]
  },
  {
   "cell_type": "markdown",
   "metadata": {},
   "source": [
    "## NOTE math messed up"
   ]
  },
  {
   "cell_type": "code",
   "execution_count": 106,
   "metadata": {},
   "outputs": [
    {
     "name": "stdout",
     "output_type": "stream",
     "text": [
      "a: 7.0710678118654755, b: 7.0710678118654755, c: 10.0\n"
     ]
    }
   ],
   "source": [
    "tri.c = 10\n",
    "print(f'a: {tri.a}, b: {tri.b}, c: {tri.c}')"
   ]
  },
  {
   "cell_type": "code",
   "execution_count": 107,
   "metadata": {},
   "outputs": [],
   "source": [
    "class RightTriangle:\n",
    "    n_vertices = 3\n",
    "    \n",
    "    def __init__(self, a, b):\n",
    "        self.a = a\n",
    "        self.b = b\n",
    "        \n",
    "    def __str__(self):\n",
    "        return f'a: {self.a}, b: {self.b}, c: {self.c}'\n",
    "    \n",
    "    def __repr__(self):\n",
    "        return f'{self.__class__.__name__}, {str(self)}'\n",
    "    \n",
    "    @property\n",
    "    def c(self):\n",
    "        return math.sqrt(self.a ** 2 + self.b ** 2)\n",
    "    \n",
    "    @property\n",
    "    def a_b(self):\n",
    "        return self.a / self.b\n",
    "    \n",
    "    @c.setter\n",
    "    def c(self, value):\n",
    "        c = value\n",
    "        self.a = math.sqrt(c ** 2 / (self.a_b ** -2 + 1))\n",
    "        self.b = math.sqrt(c ** 2 / (self.a_b ** 2 + 1))\n",
    "    \n",
    "    @staticmethod\n",
    "    def is_symmetrical(a, b):\n",
    "    if a == b:\n",
    "        return True\n",
    "    else:\n",
    "        return False\n"
   ]
  },
  {
   "cell_type": "code",
   "execution_count": 108,
   "metadata": {},
   "outputs": [
    {
     "name": "stdout",
     "output_type": "stream",
     "text": [
      "a: 3, b: 4, c: 5.0\n"
     ]
    }
   ],
   "source": [
    "asymm_tri = RightTriangle(3, 4)\n",
    "print(asymm_tri)"
   ]
  },
  {
   "cell_type": "code",
   "execution_count": 109,
   "metadata": {},
   "outputs": [
    {
     "data": {
      "text/plain": [
       "RightTriangle, a: 3, b: 4, c: 5.0"
      ]
     },
     "execution_count": 109,
     "metadata": {},
     "output_type": "execute_result"
    }
   ],
   "source": [
    "asymm_tri"
   ]
  },
  {
   "cell_type": "code",
   "execution_count": 110,
   "metadata": {},
   "outputs": [
    {
     "name": "stdout",
     "output_type": "stream",
     "text": [
      "<__main__.RightTriangle object at 0x7f5ca1cc41d0>\n"
     ]
    }
   ],
   "source": [
    "print(tri)"
   ]
  },
  {
   "cell_type": "markdown",
   "metadata": {},
   "source": [
    "Notice that existing instances of the class are not updated to include new functionality.\n",
    "It is also verbose to have to redefine a class to add any new functionality, yet it is difficult to use Jupyter for\n",
    "storytelling if all methods are defined in one block. Luckily, we can use monkeypatching to dynamically add new methods to an existing class, and all existing instances will be updated as well."
   ]
  },
  {
   "cell_type": "code",
   "execution_count": 111,
   "metadata": {},
   "outputs": [],
   "source": [
    "def make_symmetrical(triangle):\n",
    "    triangle.b = triangle.a"
   ]
  },
  {
   "cell_type": "code",
   "execution_count": 112,
   "metadata": {},
   "outputs": [],
   "source": [
    "RightTriangle.make_symmetrical = make_symmetrical"
   ]
  },
  {
   "cell_type": "markdown",
   "metadata": {},
   "source": [
    "While this could be used as a function, since it modifies the state of the object, it makes more sense as a method. When it becomes a method, the object from which the method is called is implicitly supplied as the first argument, usually denoted as `self`. If we were defining this method under the class definition, we would define it as below. Note that the `self` keyword is just a convention, and could be replaced with any term."
   ]
  },
  {
   "cell_type": "code",
   "execution_count": 113,
   "metadata": {},
   "outputs": [],
   "source": [
    "def make_symmetrical(self):\n",
    "    self.b = self.a"
   ]
  },
  {
   "cell_type": "markdown",
   "metadata": {},
   "source": [
    "Existing instances are updated to include the method in their namespace."
   ]
  },
  {
   "cell_type": "code",
   "execution_count": 114,
   "metadata": {},
   "outputs": [
    {
     "name": "stdout",
     "output_type": "stream",
     "text": [
      "a: 3, b: 3, c: 4.242640687119285\n"
     ]
    }
   ],
   "source": [
    "asymm_tri.make_symmetrical()\n",
    "print(asymm_tri)"
   ]
  },
  {
   "cell_type": "markdown",
   "metadata": {},
   "source": [
    "If we don't need to modify an object state, then it makes sense to define a function rather than a method"
   ]
  },
  {
   "cell_type": "code",
   "execution_count": 115,
   "metadata": {},
   "outputs": [],
   "source": [
    "def is_symmetrical(a, b):\n",
    "    if a == b:\n",
    "        return True\n",
    "    else:\n",
    "        return False"
   ]
  },
  {
   "cell_type": "markdown",
   "metadata": {},
   "source": [
    "If the function is intended to be run mostly in the context of a specific class, then it makes sense to include it under the namespace of that class. This is normally done with the @staticmethod decorator, but since the class is already defined, we'll monkeypatch it with the staticmethod function (a decorator is just a function that returns a modified, or \"wrapped\", function"
   ]
  },
  {
   "cell_type": "code",
   "execution_count": 118,
   "metadata": {},
   "outputs": [
    {
     "data": {
      "text/plain": [
       "True"
      ]
     },
     "execution_count": 118,
     "metadata": {},
     "output_type": "execute_result"
    }
   ],
   "source": [
    "RightTriangle.is_symmetrical = staticmethod(is_symmetrical)\n",
    "\n",
    "asymm_tri.is_symmetrical(asymm_tri.a, asymm_tri.b)"
   ]
  },
  {
   "cell_type": "markdown",
   "metadata": {},
   "source": [
    "When classes have a lot in common, it makes sense to define a parent class which other classes can inheret from. We can also use one class as a factory to create instances of another class"
   ]
  },
  {
   "cell_type": "code",
   "execution_count": 150,
   "metadata": {},
   "outputs": [],
   "source": [
    "class Shape:\n",
    "    def __init__(self, arg1, arg2, kwarg1='a',  **kwargs):\n",
    "        self.vertices = {}\n",
    "        for key, value in kwargs.items():\n",
    "            if key == 'r':\n",
    "                self.r = value\n",
    "            else:\n",
    "                self.vertices[key] = value\n",
    "                \n",
    "    def __len__(self):\n",
    "        return len(self.vertices)\n",
    "\n",
    "                \n",
    "class Prism(Shape):\n",
    "    def __init__(self, **kwargs):\n",
    "        super().__init__(**kwargs)\n",
    "        self.faces = []\n",
    "        \"\"\"\n",
    "        call `add_face` for each group of vertices on a common plane\n",
    "        \"\"\"\n",
    "    \n",
    "    def add_face(self, *vertices):\n",
    "        \"\"\"\n",
    "        create a `Shape` object and append it to self.faces\n",
    "        \"\"\"\n",
    "        \n",
    "    @property\n",
    "    def V(self):\n",
    "        \"\"\"\n",
    "        calculate volume\n",
    "        \"\"\""
   ]
  },
  {
   "cell_type": "code",
   "execution_count": 219,
   "metadata": {},
   "outputs": [],
   "source": [
    "l = [2, 3, 4]\n",
    "def f(a, b, c, d=10, e=60):\n",
    "    pass\n",
    "f(4, 5, 6)\n",
    "vert_dict = {'a': 5}\n",
    "f(vert_dict)"
   ]
  },
  {
   "cell_type": "code",
   "execution_count": 151,
   "metadata": {},
   "outputs": [],
   "source": [
    "sq_vertices = {\n",
    "    'a': (0, 0),\n",
    "    'b': (2, 0),\n",
    "    'c': (2, 2),\n",
    "    'd': (0, 2),\n",
    "}\n",
    "square = Shape(**sq_vertices)"
   ]
  },
  {
   "cell_type": "code",
   "execution_count": 152,
   "metadata": {},
   "outputs": [
    {
     "data": {
      "text/plain": [
       "{'a': (0, 0), 'b': (2, 0), 'c': (2, 2), 'd': (0, 2)}"
      ]
     },
     "execution_count": 152,
     "metadata": {},
     "output_type": "execute_result"
    }
   ],
   "source": [
    "square.vertices"
   ]
  },
  {
   "cell_type": "markdown",
   "metadata": {},
   "source": [
    "We can also use `Shape` as a factory to create prisms"
   ]
  },
  {
   "cell_type": "code",
   "execution_count": 168,
   "metadata": {},
   "outputs": [],
   "source": [
    "def project_to_prism(self, depth=2):\n",
    "    new_vertices = {}\n",
    "    for name, vertex in self.vertices.items():\n",
    "        new_vertices[name] = (*vertex, 0)\n",
    "        new_vertices[name + ' proj'] = (*vertex, depth)\n",
    "    return Prism(**new_vertices)"
   ]
  },
  {
   "cell_type": "code",
   "execution_count": 169,
   "metadata": {},
   "outputs": [],
   "source": [
    "Shape.project_to_prism = project_to_prism"
   ]
  },
  {
   "cell_type": "code",
   "execution_count": 170,
   "metadata": {},
   "outputs": [
    {
     "data": {
      "text/plain": [
       "{'a': (0, 0, 0),\n",
       " 'a proj': (0, 0, 2),\n",
       " 'b': (2, 0, 0),\n",
       " 'b proj': (2, 0, 2),\n",
       " 'c': (2, 2, 0),\n",
       " 'c proj': (2, 2, 2),\n",
       " 'd': (0, 2, 0),\n",
       " 'd proj': (0, 2, 2)}"
      ]
     },
     "execution_count": 170,
     "metadata": {},
     "output_type": "execute_result"
    }
   ],
   "source": [
    "rect_prism = square.project_to_prism()\n",
    "rect_prism.vertices"
   ]
  },
  {
   "cell_type": "code",
   "execution_count": 175,
   "metadata": {},
   "outputs": [],
   "source": [
    "class VolumeComparatorMixin:\n",
    "    def __eq__(self, other):\n",
    "        return self.V == other.V\n",
    "    \n",
    "    def __ge__(self, other):\n",
    "        return self.V >= other.V\n",
    "    \n",
    "    def __gt__(self, other):\n",
    "        return self.V > other.V\n",
    "    \n",
    "    def __le__(self, other):\n",
    "        return self.V <= other.V\n",
    "    \n",
    "    def __lt__(self, other):\n",
    "        return self.V < other.V"
   ]
  },
  {
   "cell_type": "markdown",
   "metadata": {},
   "source": [
    "Monkeypatching method resolution order"
   ]
  },
  {
   "cell_type": "code",
   "execution_count": 182,
   "metadata": {},
   "outputs": [
    {
     "data": {
      "text/plain": [
       "(object,)"
      ]
     },
     "execution_count": 182,
     "metadata": {},
     "output_type": "execute_result"
    }
   ],
   "source": [
    "Shape.__bases__"
   ]
  },
  {
   "cell_type": "code",
   "execution_count": 180,
   "metadata": {},
   "outputs": [
    {
     "data": {
      "text/plain": [
       "(__main__.Shape,)"
      ]
     },
     "execution_count": 180,
     "metadata": {},
     "output_type": "execute_result"
    }
   ],
   "source": [
    "Prism.__bases__"
   ]
  },
  {
   "cell_type": "code",
   "execution_count": 187,
   "metadata": {},
   "outputs": [],
   "source": [
    "Prism.__bases__ = (ShapeComparatorMixin, Shape)"
   ]
  },
  {
   "cell_type": "code",
   "execution_count": 221,
   "metadata": {},
   "outputs": [
    {
     "data": {
      "text/plain": [
       "(__main__.ShapeComparatorMixin, __main__.Shape)"
      ]
     },
     "execution_count": 221,
     "metadata": {},
     "output_type": "execute_result"
    }
   ],
   "source": [
    "Prism.__bases__"
   ]
  },
  {
   "cell_type": "code",
   "execution_count": 189,
   "metadata": {},
   "outputs": [
    {
     "data": {
      "text/plain": [
       "(__main__.Prism, __main__.ShapeComparatorMixin, __main__.Shape, object)"
      ]
     },
     "execution_count": 189,
     "metadata": {},
     "output_type": "execute_result"
    }
   ],
   "source": [
    "Prism.__mro__"
   ]
  },
  {
   "cell_type": "markdown",
   "metadata": {},
   "source": [
    "defining custom errors"
   ]
  },
  {
   "cell_type": "code",
   "execution_count": null,
   "metadata": {},
   "outputs": [],
   "source": [
    "class Square(Shape):\n",
    "    def __init__(self, r):\n",
    "        pass"
   ]
  },
  {
   "cell_type": "code",
   "execution_count": 206,
   "metadata": {},
   "outputs": [
    {
     "name": "stdout",
     "output_type": "stream",
     "text": [
      "0\n",
      "5\n",
      "10\n"
     ]
    },
    {
     "ename": "StopIteration",
     "evalue": "",
     "output_type": "error",
     "traceback": [
      "\u001b[0;31m---------------------------------------------------------------------------\u001b[0m",
      "\u001b[0;31mStopIteration\u001b[0m                             Traceback (most recent call last)",
      "\u001b[0;32m<ipython-input-206-081192112d0d>\u001b[0m in \u001b[0;36m<module>\u001b[0;34m\u001b[0m\n\u001b[1;32m      3\u001b[0m \u001b[0mprint\u001b[0m\u001b[0;34m(\u001b[0m\u001b[0mnext\u001b[0m\u001b[0;34m(\u001b[0m\u001b[0mfives_gen\u001b[0m\u001b[0;34m)\u001b[0m\u001b[0;34m)\u001b[0m\u001b[0;34m\u001b[0m\u001b[0;34m\u001b[0m\u001b[0m\n\u001b[1;32m      4\u001b[0m \u001b[0mprint\u001b[0m\u001b[0;34m(\u001b[0m\u001b[0mnext\u001b[0m\u001b[0;34m(\u001b[0m\u001b[0mfives_gen\u001b[0m\u001b[0;34m)\u001b[0m\u001b[0;34m)\u001b[0m\u001b[0;34m\u001b[0m\u001b[0;34m\u001b[0m\u001b[0m\n\u001b[0;32m----> 5\u001b[0;31m \u001b[0mprint\u001b[0m\u001b[0;34m(\u001b[0m\u001b[0mnext\u001b[0m\u001b[0;34m(\u001b[0m\u001b[0mfives_gen\u001b[0m\u001b[0;34m)\u001b[0m\u001b[0;34m)\u001b[0m\u001b[0;34m\u001b[0m\u001b[0;34m\u001b[0m\u001b[0m\n\u001b[0m",
      "\u001b[0;31mStopIteration\u001b[0m: "
     ]
    }
   ],
   "source": [
    "fives_gen = (i for i in range(0, 15, 5))\n",
    "print(next(fives_gen))\n",
    "print(next(fives_gen))\n",
    "print(next(fives_gen))\n",
    "print(next(fives_gen))"
   ]
  },
  {
   "cell_type": "code",
   "execution_count": 207,
   "metadata": {},
   "outputs": [],
   "source": [
    "def fib(n):\n",
    "    a, b = 0, 1\n",
    "    for _ in range(n):\n",
    "        yield a\n",
    "        a, b = b, a + b"
   ]
  },
  {
   "cell_type": "markdown",
   "metadata": {},
   "source": [
    "Multiple constructors"
   ]
  },
  {
   "cell_type": "markdown",
   "metadata": {},
   "source": [
    "## Methods"
   ]
  },
  {
   "cell_type": "markdown",
   "metadata": {},
   "source": [
    "- A function that is associated with an object\n",
    "- Has access to the object state by default"
   ]
  }
 ],
 "metadata": {
  "kernelspec": {
   "display_name": "Python 3",
   "language": "python",
   "name": "python3"
  },
  "language_info": {
   "codemirror_mode": {
    "name": "ipython",
    "version": 3
   },
   "file_extension": ".py",
   "mimetype": "text/x-python",
   "name": "python",
   "nbconvert_exporter": "python",
   "pygments_lexer": "ipython3",
   "version": "3.6.8"
  }
 },
 "nbformat": 4,
 "nbformat_minor": 2
}
